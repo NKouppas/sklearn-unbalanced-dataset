{
 "cells": [
  {
   "cell_type": "code",
   "execution_count": 1,
   "metadata": {},
   "outputs": [
    {
     "name": "stderr",
     "output_type": "stream",
     "text": [
      "Using TensorFlow backend.\n"
     ]
    }
   ],
   "source": [
    "# Importing libraries\n",
    "import pandas as pd\n",
    "import numpy as np\n",
    "import keras\n",
    "from keras.models import Sequential\n",
    "from keras.layers import Dense, Dropout\n",
    "from keras.wrappers.scikit_learn import KerasClassifier\n",
    "from sklearn.model_selection import train_test_split, GridSearchCV, KFold\n",
    "from sklearn.preprocessing import StandardScaler, MinMaxScaler\n",
    "from sklearn.ensemble import RandomForestClassifier\n",
    "from sklearn.metrics import roc_curve, auc, accuracy_score, confusion_matrix\n",
    "from imblearn.under_sampling import RandomUnderSampler\n",
    "from imblearn.over_sampling import RandomOverSampler, SMOTE\n",
    "from keras.callbacks import EarlyStopping\n",
    "import matplotlib.pyplot as plt\n",
    "import seaborn as sn\n",
    "\n",
    "%matplotlib inline"
   ]
  },
  {
   "cell_type": "markdown",
   "metadata": {},
   "source": [
    "## Data Preprocessing"
   ]
  },
  {
   "cell_type": "code",
   "execution_count": 2,
   "metadata": {},
   "outputs": [
    {
     "name": "stderr",
     "output_type": "stream",
     "text": [
      "/opt/anaconda3/lib/python3.7/site-packages/ipykernel_launcher.py:5: SettingWithCopyWarning: \n",
      "A value is trying to be set on a copy of a slice from a DataFrame\n",
      "\n",
      "See the caveats in the documentation: http://pandas.pydata.org/pandas-docs/stable/user_guide/indexing.html#returning-a-view-versus-a-copy\n",
      "  \"\"\"\n",
      "/opt/anaconda3/lib/python3.7/site-packages/ipykernel_launcher.py:6: SettingWithCopyWarning: \n",
      "A value is trying to be set on a copy of a slice from a DataFrame\n",
      "\n",
      "See the caveats in the documentation: http://pandas.pydata.org/pandas-docs/stable/user_guide/indexing.html#returning-a-view-versus-a-copy\n",
      "  \n"
     ]
    }
   ],
   "source": [
    "# Data Preprocessing\n",
    "missing_values = ['Nan', 'n/a', '--']\n",
    "data = pd.read_csv('Loan_data_part_I.csv', na_values = missing_values)\n",
    "#data.isnull().values.any()\n",
    "data['loan_status'][data['loan_status'] == 'Fail'] = 0\n",
    "data['loan_status'][data['loan_status'] == 'Current'] = 1\n",
    "data = data.drop('id', axis = 1)\n",
    "data = data.astype('int')\n",
    "#data.describe()\n",
    "#data"
   ]
  },
  {
   "cell_type": "code",
   "execution_count": 3,
   "metadata": {},
   "outputs": [],
   "source": [
    "# Splitting the dataset into\n",
    "X = data.drop('loan_status', axis = 1)\n",
    "y = data['loan_status']\n",
    "\n",
    "# Applying Random Undersampling with replacement\n",
    "#rus = RandomUnderSampler(random_state = 69, replacement = True)\n",
    "#X, y = rus.fit_sample(X, y)\n",
    "\n",
    "# Applying Random Oversampling with replacement\n",
    "ros = RandomOverSampler(random_state = 69)\n",
    "X, y = ros.fit_sample(X, y)\n",
    "\n",
    "# Applying Random Oversampling with replacement\n",
    "#ross = SMOTE(random_state = 69)\n",
    "#X, y = ross.fit_sample(X, y)\n",
    "\n",
    "X_train, X_test, y_train, y_test = train_test_split(X, y, test_size = 0.3, shuffle = True, random_state = 69)\n",
    "X_val, X_test, y_val, y_test = train_test_split(X_test, y_test, test_size = 0.5, shuffle = True, random_state = 69)"
   ]
  },
  {
   "cell_type": "code",
   "execution_count": 4,
   "metadata": {},
   "outputs": [],
   "source": [
    "# Standardising the data\n",
    "#sc_x = StandardScaler()\n",
    "#X_train = sc_x.fit_transform(X_train)\n",
    "#X_val = sc_x.transform(X_val)\n",
    "#X_test = sc_x.transform(X_test)"
   ]
  },
  {
   "cell_type": "code",
   "execution_count": 5,
   "metadata": {},
   "outputs": [],
   "source": [
    "# Normalising the data (min max)\n",
    "scaler = MinMaxScaler()\n",
    "scaler.fit(X_train)\n",
    "X_train = scaler.transform(X_train)\n",
    "X_val = scaler.transform(X_val)\n",
    "X_test = scaler.transform(X_test)"
   ]
  },
  {
   "cell_type": "markdown",
   "metadata": {},
   "source": [
    "## Random Forest"
   ]
  },
  {
   "cell_type": "code",
   "execution_count": null,
   "metadata": {},
   "outputs": [],
   "source": [
    "clf = RandomForestClassifier(n_estimators = 1000, criterion = 'gini', \n",
    "                              min_samples_split = 40, min_samples_leaf = 10, random_state = 69)"
   ]
  },
  {
   "cell_type": "code",
   "execution_count": null,
   "metadata": {},
   "outputs": [],
   "source": [
    "# Grid Search for hyperparameters optimization\n",
    "criterion = ['gini', 'entropy']\n",
    "n_estimators = [500, 1000]\n",
    "min_samples_split = [20, 25, 30, 35, 40]\n",
    "min_samples_leaf = [1, 3, 5, 7, 10]\n",
    "\n",
    "param_grid = dict(min_samples_split = min_samples_split, n_estimators = n_estimators, \n",
    "                  criterion = criterion, min_samples_leaf = min_samples_leaf)\n",
    "\n",
    "cv = KFold(n_splits = 5, shuffle = True, random_state = 69)\n",
    "grid_search = GridSearchCV(estimator = clf, param_grid = param_grid, scoring = 'accuracy', cv = cv, n_jobs = -1)\n",
    "grid_search = grid_search.fit(X_train, y_train)\n",
    "\n",
    "# summarize results\n",
    "print(\"Best: %f using %s\" % (grid_search.best_score_, grid_search.best_params_))\n",
    "means = grid_search.cv_results_['mean_test_score']\n",
    "stds = grid_search.cv_results_['std_test_score']\n",
    "params = grid_search.cv_results_['params']\n",
    "for mean, stdev, param in zip(means, stds, params):\n",
    "    print(\"%f (%f) with: %r\" % (mean, stdev, param)) "
   ]
  },
  {
   "cell_type": "code",
   "execution_count": null,
   "metadata": {},
   "outputs": [],
   "source": [
    "clf.fit(X_train, y_train)"
   ]
  },
  {
   "cell_type": "markdown",
   "metadata": {},
   "source": [
    "### Results Validation Set"
   ]
  },
  {
   "cell_type": "code",
   "execution_count": 6,
   "metadata": {},
   "outputs": [
    {
     "ename": "NameError",
     "evalue": "name 'clf' is not defined",
     "output_type": "error",
     "traceback": [
      "\u001b[0;31m---------------------------------------------------------------------------\u001b[0m",
      "\u001b[0;31mNameError\u001b[0m                                 Traceback (most recent call last)",
      "\u001b[0;32m<ipython-input-6-6407fe3c81a8>\u001b[0m in \u001b[0;36m<module>\u001b[0;34m\u001b[0m\n\u001b[0;32m----> 1\u001b[0;31m \u001b[0mRF_fpr\u001b[0m\u001b[0;34m,\u001b[0m \u001b[0mRF_tpr\u001b[0m\u001b[0;34m,\u001b[0m \u001b[0m_\u001b[0m \u001b[0;34m=\u001b[0m \u001b[0mroc_curve\u001b[0m\u001b[0;34m(\u001b[0m\u001b[0my_val\u001b[0m\u001b[0;34m,\u001b[0m \u001b[0mclf\u001b[0m\u001b[0;34m.\u001b[0m\u001b[0mpredict_proba\u001b[0m\u001b[0;34m(\u001b[0m\u001b[0mX_val\u001b[0m\u001b[0;34m)\u001b[0m\u001b[0;34m[\u001b[0m\u001b[0;34m:\u001b[0m\u001b[0;34m,\u001b[0m\u001b[0;36m1\u001b[0m\u001b[0;34m]\u001b[0m\u001b[0;34m)\u001b[0m\u001b[0;34m\u001b[0m\u001b[0;34m\u001b[0m\u001b[0m\n\u001b[0m\u001b[1;32m      2\u001b[0m \u001b[0mRF_roc_auc\u001b[0m \u001b[0;34m=\u001b[0m \u001b[0mauc\u001b[0m\u001b[0;34m(\u001b[0m\u001b[0mRF_fpr\u001b[0m\u001b[0;34m,\u001b[0m \u001b[0mRF_tpr\u001b[0m\u001b[0;34m)\u001b[0m\u001b[0;34m\u001b[0m\u001b[0;34m\u001b[0m\u001b[0m\n\u001b[1;32m      3\u001b[0m \u001b[0maccuracy\u001b[0m \u001b[0;34m=\u001b[0m \u001b[0maccuracy_score\u001b[0m\u001b[0;34m(\u001b[0m\u001b[0my_val\u001b[0m\u001b[0;34m,\u001b[0m \u001b[0mclf\u001b[0m\u001b[0;34m.\u001b[0m\u001b[0mpredict\u001b[0m\u001b[0;34m(\u001b[0m\u001b[0mX_val\u001b[0m\u001b[0;34m)\u001b[0m\u001b[0;34m)\u001b[0m\u001b[0;34m\u001b[0m\u001b[0;34m\u001b[0m\u001b[0m\n\u001b[1;32m      4\u001b[0m print(\"The roc auc in the test set is %0.3f and the accuracy is %0.2f\"\n\u001b[1;32m      5\u001b[0m       %(RF_roc_auc, accuracy))\n",
      "\u001b[0;31mNameError\u001b[0m: name 'clf' is not defined"
     ]
    }
   ],
   "source": [
    "RF_fpr, RF_tpr, _ = roc_curve(y_val, clf.predict_proba(X_val)[:,1])\n",
    "RF_roc_auc = auc(RF_fpr, RF_tpr)\n",
    "accuracy = accuracy_score(y_val, clf.predict(X_val))\n",
    "print(\"The roc auc in the test set is %0.3f and the accuracy is %0.2f\"\n",
    "      %(RF_roc_auc, accuracy))"
   ]
  },
  {
   "cell_type": "code",
   "execution_count": null,
   "metadata": {},
   "outputs": [],
   "source": [
    "# Plotting the graph\n",
    "plt.plot(RF_fpr, RF_tpr, 'b', label = 'AUC = %0.3f' % RF_roc_auc)\n",
    "plt.legend(loc = 'lower right')\n",
    "plt.plot([0, 1], [0, 1],'r--')\n",
    "plt.xlim([0, 1])\n",
    "plt.ylim([0, 1])\n",
    "plt.ylabel('True Positive Rate')\n",
    "plt.xlabel('False Positive Rate')\n",
    "plt.show()"
   ]
  },
  {
   "cell_type": "markdown",
   "metadata": {},
   "source": [
    "### Results Test Set"
   ]
  },
  {
   "cell_type": "code",
   "execution_count": null,
   "metadata": {},
   "outputs": [],
   "source": [
    "RF_test_fpr, RF_test_tpr, _ = roc_curve(y_test, clf.predict_proba(X_test)[:,1])\n",
    "RF_test_roc_auc = auc(RF_test_fpr, RF_test_tpr)\n",
    "accuracy = accuracy_score(y_test, clf.predict(X_test))\n",
    "print(\"The roc auc in the test set is %0.3f and the accuracy is %0.2f\"\n",
    "      %(RF_test_roc_auc, accuracy))"
   ]
  },
  {
   "cell_type": "code",
   "execution_count": null,
   "metadata": {},
   "outputs": [],
   "source": [
    "# Plotting the graph\n",
    "plt.plot(RF_test_fpr, RF_test_tpr, 'b', label = 'AUC = %0.3f' % RF_test_roc_auc)\n",
    "plt.legend(loc = 'lower right')\n",
    "plt.plot([0, 1], [0, 1],'r--')\n",
    "plt.xlim([0, 1])\n",
    "plt.ylim([0, 1])\n",
    "plt.ylabel('True Positive Rate')\n",
    "plt.xlabel('False Positive Rate')\n",
    "plt.show()"
   ]
  },
  {
   "cell_type": "code",
   "execution_count": null,
   "metadata": {},
   "outputs": [],
   "source": [
    "# Confusion matrix\n",
    "cf_RF = confusion_matrix(y_test, clf.predict(X_test))\n",
    "#fig_RF = plt.figure(figsize = (4,3))\n",
    "#plt.title('Random Forest - Confusion Matirx')\n",
    "#ax = fig_RF.gca()\n",
    "#sn.heatmap(cf_RF, annot=True)\n",
    "cf_RF"
   ]
  },
  {
   "cell_type": "markdown",
   "metadata": {},
   "source": [
    "## Neural Networks"
   ]
  },
  {
   "cell_type": "code",
   "execution_count": null,
   "metadata": {},
   "outputs": [],
   "source": [
    "# Hyperparameters to be optimzed\n",
    "\n",
    "#lr = [0.1, 0.01, 0.001]\n",
    "#optimizer = ['adam', 'SGD', 'RMSprop']\n",
    "kernel_initializer = ['normal', 'uniform']\n",
    "batch_size = [15, 30, 60]\n",
    "#epochs = [100, 150, 200]\n",
    "#activation = ['relu', 'elu', 'tanh']"
   ]
  },
  {
   "cell_type": "code",
   "execution_count": 7,
   "metadata": {},
   "outputs": [],
   "source": [
    "def build_classifier():#optimizer = optimizer, lr = lr, kernel_initializer = kernel_initializer):\n",
    "    # Initialising the ANN\n",
    "    classifier = Sequential()\n",
    "    # Adding the input layer and the first hidden layer\n",
    "    classifier.add(Dense(units = 20, kernel_initializer = 'normal', activation = 'relu', input_dim = 46))\n",
    "    # Adding dropout for NN training\n",
    "    classifier.add(Dropout(0.6))\n",
    "    # Adding the second hidden layer\n",
    "    classifier.add(Dense(units = 7, kernel_initializer = 'normal', activation = 'relu'))\n",
    "    # Adding dropout for NN training\n",
    "    classifier.add(Dropout(0.6))\n",
    "    # Adding the third hidden layer\n",
    "    classifier.add(Dense(units = 5, kernel_initializer = 'normal', activation = 'relu'))\n",
    "    # Adding the output layer\n",
    "    classifier.add(Dense(units = 1, kernel_initializer = 'normal', activation = 'sigmoid'))\n",
    "    # Compiling the ANN\n",
    "    classifier.compile(optimizer = 'adam', loss = 'binary_crossentropy', metrics = ['accuracy'])\n",
    "    return classifier"
   ]
  },
  {
   "cell_type": "code",
   "execution_count": 8,
   "metadata": {},
   "outputs": [],
   "source": [
    "classifier = KerasClassifier(build_fn = build_classifier)"
   ]
  },
  {
   "cell_type": "code",
   "execution_count": 9,
   "metadata": {},
   "outputs": [
    {
     "name": "stdout",
     "output_type": "stream",
     "text": [
      "WARNING:tensorflow:Large dropout rate: 0.6 (>0.5). In TensorFlow 2.x, dropout() uses dropout rate instead of keep_prob. Please ensure that this is intended.\n",
      "WARNING:tensorflow:Large dropout rate: 0.6 (>0.5). In TensorFlow 2.x, dropout() uses dropout rate instead of keep_prob. Please ensure that this is intended.\n",
      "Epoch 1/300\n",
      "71968/71968 [==============================] - 6s 79us/step - loss: 0.6665 - accuracy: 0.6044\n",
      "Epoch 2/300\n",
      "71968/71968 [==============================] - 5s 67us/step - loss: 0.6561 - accuracy: 0.6206\n",
      "Epoch 3/300\n",
      "71968/71968 [==============================] - 5s 67us/step - loss: 0.6538 - accuracy: 0.6204\n",
      "Epoch 4/300\n",
      "71968/71968 [==============================] - 5s 68us/step - loss: 0.6526 - accuracy: 0.6195\n",
      "Epoch 5/300\n",
      "71968/71968 [==============================] - 5s 69us/step - loss: 0.6519 - accuracy: 0.6206\n",
      "Epoch 6/300\n",
      "71968/71968 [==============================] - 5s 70us/step - loss: 0.6511 - accuracy: 0.6214\n",
      "Epoch 7/300\n",
      "71968/71968 [==============================] - 5s 71us/step - loss: 0.6504 - accuracy: 0.6213\n",
      "Epoch 8/300\n",
      "71968/71968 [==============================] - 5s 71us/step - loss: 0.6500 - accuracy: 0.6231\n",
      "Epoch 9/300\n",
      "71968/71968 [==============================] - 5s 72us/step - loss: 0.6499 - accuracy: 0.6205\n",
      "Epoch 10/300\n",
      "71968/71968 [==============================] - 5s 71us/step - loss: 0.6497 - accuracy: 0.6218\n",
      "Epoch 11/300\n",
      "71968/71968 [==============================] - 5s 70us/step - loss: 0.6498 - accuracy: 0.6213\n",
      "Epoch 12/300\n",
      "71968/71968 [==============================] - 5s 69us/step - loss: 0.6489 - accuracy: 0.6223\n",
      "Epoch 13/300\n",
      "71968/71968 [==============================] - 5s 67us/step - loss: 0.6491 - accuracy: 0.6251\n",
      "Epoch 14/300\n",
      "71968/71968 [==============================] - 5s 67us/step - loss: 0.6484 - accuracy: 0.6242\n",
      "Epoch 15/300\n",
      "71968/71968 [==============================] - 5s 67us/step - loss: 0.6484 - accuracy: 0.6230\n",
      "Epoch 16/300\n",
      "71968/71968 [==============================] - 5s 67us/step - loss: 0.6483 - accuracy: 0.6208\n",
      "Epoch 17/300\n",
      "71968/71968 [==============================] - 5s 67us/step - loss: 0.6487 - accuracy: 0.6225\n",
      "Epoch 18/300\n",
      "71968/71968 [==============================] - 5s 69us/step - loss: 0.6498 - accuracy: 0.6200\n",
      "Epoch 19/300\n",
      "71968/71968 [==============================] - 5s 69us/step - loss: 0.6493 - accuracy: 0.6219\n",
      "Epoch 20/300\n",
      "71968/71968 [==============================] - 5s 69us/step - loss: 0.6481 - accuracy: 0.6220\n",
      "Epoch 21/300\n",
      "71968/71968 [==============================] - 5s 69us/step - loss: 0.6495 - accuracy: 0.6214\n",
      "Epoch 22/300\n",
      "71968/71968 [==============================] - 5s 69us/step - loss: 0.6483 - accuracy: 0.6222\n",
      "Epoch 23/300\n",
      "71968/71968 [==============================] - 5s 69us/step - loss: 0.6487 - accuracy: 0.6218\n",
      "Epoch 24/300\n",
      "71968/71968 [==============================] - 5s 67us/step - loss: 0.6481 - accuracy: 0.6242\n",
      "Epoch 25/300\n",
      "71968/71968 [==============================] - 5s 67us/step - loss: 0.6483 - accuracy: 0.6227\n"
     ]
    },
    {
     "data": {
      "text/plain": [
       "<keras.callbacks.callbacks.History at 0x1a484b1d10>"
      ]
     },
     "execution_count": 9,
     "metadata": {},
     "output_type": "execute_result"
    }
   ],
   "source": [
    "classifier.fit(X_train, y_train, batch_size = 30, \n",
    "               epochs = 300, callbacks = [EarlyStopping(monitor = 'loss', patience = 5)])"
   ]
  },
  {
   "cell_type": "code",
   "execution_count": null,
   "metadata": {},
   "outputs": [],
   "source": [
    "# Grid Search for hyperparameters optimization\n",
    "\n",
    "param_grid = dict(kernel_initializer = kernel_initializer, batch_size = batch_size)#optimizer = optimizer, epochs = epochs\n",
    "\n",
    "cv = KFold(n_splits = 5, shuffle = True, random_state = 69)\n",
    "grid_search = GridSearchCV(estimator = classifier, param_grid = param_grid, scoring = 'accuracy', cv = cv, n_jobs = -1)\n",
    "grid_search = grid_search.fit(X = X_train, y = y_train)\n",
    "\n",
    "# summarize results\n",
    "print(\"Best: %f using %s\" % (grid_search.best_score_, grid_search.best_params_))\n",
    "means = grid_search.cv_results_['mean_test_score']\n",
    "stds = grid_search.cv_results_['std_test_score']\n",
    "params = grid_search.cv_results_['params']\n",
    "for mean, stdev, param in zip(means, stds, params):\n",
    "    print(\"%f (%f) with: %r\" % (mean, stdev, param)) "
   ]
  },
  {
   "cell_type": "markdown",
   "metadata": {},
   "source": [
    "### Results Validation Set"
   ]
  },
  {
   "cell_type": "code",
   "execution_count": 10,
   "metadata": {},
   "outputs": [
    {
     "name": "stdout",
     "output_type": "stream",
     "text": [
      "The roc auc in the test set is 0.715 and the accuracy is 0.65\n"
     ]
    }
   ],
   "source": [
    "NN_fpr, NN_tpr, _ = roc_curve(y_val, classifier.predict_proba(X_val)[:,1])\n",
    "NN_roc_auc = auc(NN_fpr, NN_tpr)\n",
    "accuracy = accuracy_score(y_val, classifier.predict(X_val))\n",
    "print(\"The roc auc in the test set is %0.3f and the accuracy is %0.2f\"\n",
    "      %(NN_roc_auc, accuracy))"
   ]
  },
  {
   "cell_type": "code",
   "execution_count": 11,
   "metadata": {},
   "outputs": [
    {
     "data": {
      "image/png": "[encoded data removed]",
      "text/plain": [
       "<Figure size 432x288 with 1 Axes>"
      ]
     },
     "metadata": {
      "needs_background": "light"
     },
     "output_type": "display_data"
    }
   ],
   "source": [
    "# Plotting the graph\n",
    "plt.plot(NN_fpr, NN_tpr, 'b', label = 'AUC = %0.3f' % NN_roc_auc)\n",
    "plt.legend(loc = 'lower right')\n",
    "plt.plot([0, 1], [0, 1],'r--')\n",
    "plt.xlim([0, 1])\n",
    "plt.ylim([0, 1])\n",
    "plt.ylabel('True Positive Rate')\n",
    "plt.xlabel('False Positive Rate')\n",
    "plt.show()"
   ]
  },
  {
   "cell_type": "markdown",
   "metadata": {},
   "source": [
    "### Results Test Set"
   ]
  },
  {
   "cell_type": "code",
   "execution_count": 12,
   "metadata": {},
   "outputs": [
    {
     "name": "stdout",
     "output_type": "stream",
     "text": [
      "The roc auc in the test set is 0.708 and the accuracy is 0.65\n"
     ]
    }
   ],
   "source": [
    "NN_test_fpr, NN_test_tpr, _ = roc_curve(y_test, classifier.predict_proba(X_test)[:,1])\n",
    "NN_test_roc_auc = auc(NN_test_fpr, NN_test_tpr)\n",
    "accuracy = accuracy_score(y_test, classifier.predict(X_test))\n",
    "print(\"The roc auc in the test set is %0.3f and the accuracy is %0.2f\"\n",
    "      %(NN_test_roc_auc, accuracy))"
   ]
  },
  {
   "cell_type": "code",
   "execution_count": 13,
   "metadata": {},
   "outputs": [
    {
     "data": {
      "image/png": "[encoded data removed]",
      "text/plain": [
       "<Figure size 432x288 with 1 Axes>"
      ]
     },
     "metadata": {
      "needs_background": "light"
     },
     "output_type": "display_data"
    }
   ],
   "source": [
    "# Plotting the graph\n",
    "plt.plot(NN_test_fpr, NN_test_tpr, 'b', label = 'AUC = %0.3f' % NN_test_roc_auc)\n",
    "plt.legend(loc = 'lower right')\n",
    "plt.plot([0, 1], [0, 1],'r--')\n",
    "plt.xlim([0, 1])\n",
    "plt.ylim([0, 1])\n",
    "plt.ylabel('True Positive Rate')\n",
    "plt.xlabel('False Positive Rate')\n",
    "plt.show()"
   ]
  },
  {
   "cell_type": "code",
   "execution_count": 14,
   "metadata": {},
   "outputs": [
    {
     "data": {
      "text/plain": [
       "array([[5197, 2617],\n",
       "       [2825, 4783]])"
      ]
     },
     "execution_count": 14,
     "metadata": {},
     "output_type": "execute_result"
    }
   ],
   "source": [
    "# Confusion matrix\n",
    "cf_NN = confusion_matrix(y_test, classifier.predict(X_test))\n",
    "#fig_NN = plt.figure(figsize = (7,5))\n",
    "#plt.title('Neural Networks - Confusion Matirx')\n",
    "#ax = fig_NN.gca()\n",
    "#sn.heatmap(cf_NN, annot=True)\n",
    "cf_NN"
   ]
  },
  {
   "cell_type": "markdown",
   "metadata": {},
   "source": [
    "## Out of Sample"
   ]
  },
  {
   "cell_type": "code",
   "execution_count": 15,
   "metadata": {},
   "outputs": [
    {
     "name": "stderr",
     "output_type": "stream",
     "text": [
      "/opt/anaconda3/lib/python3.7/site-packages/ipykernel_launcher.py:5: SettingWithCopyWarning: \n",
      "A value is trying to be set on a copy of a slice from a DataFrame\n",
      "\n",
      "See the caveats in the documentation: http://pandas.pydata.org/pandas-docs/stable/user_guide/indexing.html#returning-a-view-versus-a-copy\n",
      "  \"\"\"\n",
      "/opt/anaconda3/lib/python3.7/site-packages/ipykernel_launcher.py:6: SettingWithCopyWarning: \n",
      "A value is trying to be set on a copy of a slice from a DataFrame\n",
      "\n",
      "See the caveats in the documentation: http://pandas.pydata.org/pandas-docs/stable/user_guide/indexing.html#returning-a-view-versus-a-copy\n",
      "  \n"
     ]
    }
   ],
   "source": [
    "# Data Preprocessing\n",
    "missing_values = ['Nan', 'n/a', '--']\n",
    "df = pd.read_csv('Loan_data_part_II.csv', na_values = missing_values)\n",
    "#df.isnull().values.any()\n",
    "df['loan_status'][df['loan_status'] == 'Fail'] = 0\n",
    "df['loan_status'][df['loan_status'] == 'Current'] = 1\n",
    "df = df.drop('id', axis = 1)\n",
    "df = df.astype('int')\n",
    "#df.describe()\n",
    "#df"
   ]
  },
  {
   "cell_type": "code",
   "execution_count": 16,
   "metadata": {},
   "outputs": [],
   "source": [
    "# Splitting the dataset into\n",
    "X = df.drop('loan_status', axis = 1)\n",
    "y = df['loan_status']"
   ]
  },
  {
   "cell_type": "code",
   "execution_count": 17,
   "metadata": {},
   "outputs": [],
   "source": [
    "# Standardising the data\n",
    "#sc_x_oos = StandardScaler()\n",
    "#X = sc_x_oos.fit_transform(X)"
   ]
  },
  {
   "cell_type": "code",
   "execution_count": 18,
   "metadata": {},
   "outputs": [],
   "source": [
    "# Normalising the data (min max)\n",
    "scaler_oos = MinMaxScaler()\n",
    "scaler_oos.fit(X)\n",
    "X = scaler.transform(X)"
   ]
  },
  {
   "cell_type": "markdown",
   "metadata": {},
   "source": [
    "## Random Forest Out of Sample"
   ]
  },
  {
   "cell_type": "code",
   "execution_count": null,
   "metadata": {},
   "outputs": [],
   "source": [
    "RF_oos_fpr, RF_oos_tpr, _ = roc_curve(y, clf.predict_proba(X)[:,1])\n",
    "RF_oos_roc_auc = auc(RF_oos_fpr, RF_oos_tpr)\n",
    "accuracy = accuracy_score(y, clf.predict(X))\n",
    "print(\"The roc auc in the test set is %0.3f and the accuracy is %0.2f\"\n",
    "      %(RF_oos_roc_auc, accuracy))"
   ]
  },
  {
   "cell_type": "code",
   "execution_count": null,
   "metadata": {},
   "outputs": [],
   "source": [
    "# Plotting the graph\n",
    "plt.plot(RF_oos_fpr, RF_oos_tpr, 'b', label = 'AUC = %0.3f' % RF_oos_roc_auc)\n",
    "plt.legend(loc = 'lower right')\n",
    "plt.plot([0, 1], [0, 1],'r--')\n",
    "plt.xlim([0, 1])\n",
    "plt.ylim([0, 1])\n",
    "plt.ylabel('True Positive Rate')\n",
    "plt.xlabel('False Positive Rate')\n",
    "plt.show()"
   ]
  },
  {
   "cell_type": "markdown",
   "metadata": {},
   "source": [
    "## Neural Network Out of Sample"
   ]
  },
  {
   "cell_type": "code",
   "execution_count": 19,
   "metadata": {},
   "outputs": [
    {
     "name": "stdout",
     "output_type": "stream",
     "text": [
      "The roc auc in the test set is 0.714 and the accuracy is 0.65\n"
     ]
    }
   ],
   "source": [
    "NN_oos_fpr, NN_oos_tpr, _ = roc_curve(y, classifier.predict_proba(X)[:,1])\n",
    "NN_oos_roc_auc = auc(NN_oos_fpr, NN_oos_tpr)\n",
    "accuracy = accuracy_score(y, classifier.predict(X))\n",
    "print(\"The roc auc in the test set is %0.3f and the accuracy is %0.2f\"\n",
    "      %(NN_oos_roc_auc, accuracy))"
   ]
  },
  {
   "cell_type": "code",
   "execution_count": 20,
   "metadata": {},
   "outputs": [
    {
     "data": {
      "image/png": "[encoded data removed]",
      "text/plain": [
       "<Figure size 432x288 with 1 Axes>"
      ]
     },
     "metadata": {
      "needs_background": "light"
     },
     "output_type": "display_data"
    }
   ],
   "source": [
    "# Plotting the graph\n",
    "plt.plot(NN_oos_fpr, NN_oos_tpr, 'b', label = 'AUC = %0.3f' % NN_oos_roc_auc)\n",
    "plt.legend(loc = 'lower right')\n",
    "plt.plot([0, 1], [0, 1],'r--')\n",
    "plt.xlim([0, 1])\n",
    "plt.ylim([0, 1])\n",
    "plt.ylabel('True Positive Rate')\n",
    "plt.xlabel('False Positive Rate')\n",
    "plt.show()"
   ]
  },
  {
   "cell_type": "code",
   "execution_count": null,
   "metadata": {},
   "outputs": [],
   "source": []
  }
 ],
 "metadata": {
  "kernelspec": {
   "display_name": "Python 3",
   "language": "python",
   "name": "python3"
  },
  "language_info": {
   "codemirror_mode": {
    "name": "ipython",
    "version": 3
   },
   "file_extension": ".py",
   "mimetype": "text/x-python",
   "name": "python",
   "nbconvert_exporter": "python",
   "pygments_lexer": "ipython3",
   "version": "3.7.4"
  }
 },
 "nbformat": 4,
 "nbformat_minor": 2
}
