{
 "cells": [
  {
   "cell_type": "code",
   "execution_count": 1,
   "metadata": {},
   "outputs": [
    {
     "name": "stderr",
     "output_type": "stream",
     "text": [
      "Using TensorFlow backend.\n"
     ]
    }
   ],
   "source": [
    "# Importing libraries\n",
    "import pandas as pd\n",
    "import numpy as np\n",
    "import keras\n",
    "from keras.models import Sequential\n",
    "from keras.layers import Dense, Dropout\n",
    "from keras.wrappers.scikit_learn import KerasClassifier\n",
    "from sklearn.model_selection import train_test_split, GridSearchCV, KFold\n",
    "from sklearn.preprocessing import StandardScaler, MinMaxScaler\n",
    "from sklearn.ensemble import RandomForestClassifier\n",
    "from sklearn.metrics import roc_curve, auc, accuracy_score, confusion_matrix\n",
    "from imblearn.under_sampling import RandomUnderSampler\n",
    "from imblearn.over_sampling import RandomOverSampler, SMOTE\n",
    "from keras.callbacks import EarlyStopping\n",
    "import matplotlib.pyplot as plt\n",
    "import seaborn as sn\n",
    "\n",
    "%matplotlib inline"
   ]
  },
  {
   "cell_type": "markdown",
   "metadata": {},
   "source": [
    "## Data Preprocessing"
   ]
  },
  {
   "cell_type": "code",
   "execution_count": 2,
   "metadata": {},
   "outputs": [
    {
     "name": "stderr",
     "output_type": "stream",
     "text": [
      "/opt/anaconda3/lib/python3.7/site-packages/ipykernel_launcher.py:5: SettingWithCopyWarning: \n",
      "A value is trying to be set on a copy of a slice from a DataFrame\n",
      "\n",
      "See the caveats in the documentation: https://pandas.pydata.org/pandas-docs/stable/user_guide/indexing.html#returning-a-view-versus-a-copy\n",
      "  \"\"\"\n",
      "/opt/anaconda3/lib/python3.7/site-packages/ipykernel_launcher.py:6: SettingWithCopyWarning: \n",
      "A value is trying to be set on a copy of a slice from a DataFrame\n",
      "\n",
      "See the caveats in the documentation: https://pandas.pydata.org/pandas-docs/stable/user_guide/indexing.html#returning-a-view-versus-a-copy\n",
      "  \n"
     ]
    },
    {
     "data": {
      "text/html": [
       "<div>\n",
       "<style scoped>\n",
       "    .dataframe tbody tr th:only-of-type {\n",
       "        vertical-align: middle;\n",
       "    }\n",
       "\n",
       "    .dataframe tbody tr th {\n",
       "        vertical-align: top;\n",
       "    }\n",
       "\n",
       "    .dataframe thead th {\n",
       "        text-align: right;\n",
       "    }\n",
       "</style>\n",
       "<table border=\"1\" class=\"dataframe\">\n",
       "  <thead>\n",
       "    <tr style=\"text-align: right;\">\n",
       "      <th></th>\n",
       "      <th>loan_status</th>\n",
       "      <th>loan_amnt</th>\n",
       "      <th>term</th>\n",
       "      <th>int_rate</th>\n",
       "      <th>grade</th>\n",
       "      <th>sub_grade</th>\n",
       "      <th>installment</th>\n",
       "      <th>pymnt_plan</th>\n",
       "      <th>annual_inc</th>\n",
       "      <th>emp_length</th>\n",
       "      <th>...</th>\n",
       "      <th>pub_rec_bankruptcies</th>\n",
       "      <th>revol_bal</th>\n",
       "      <th>revol_util</th>\n",
       "      <th>tax_liens</th>\n",
       "      <th>tot_cur_bal</th>\n",
       "      <th>tot_hi_cred_lim</th>\n",
       "      <th>total_acc</th>\n",
       "      <th>total_bal_ex_mort</th>\n",
       "      <th>total_bal_il</th>\n",
       "      <th>total_bc_limit</th>\n",
       "    </tr>\n",
       "  </thead>\n",
       "  <tbody>\n",
       "    <tr>\n",
       "      <th>count</th>\n",
       "      <td>61072.000000</td>\n",
       "      <td>61072.000000</td>\n",
       "      <td>61072.000000</td>\n",
       "      <td>61072.000000</td>\n",
       "      <td>61072.000000</td>\n",
       "      <td>61072.000000</td>\n",
       "      <td>61072.000000</td>\n",
       "      <td>61072.000000</td>\n",
       "      <td>6.107200e+04</td>\n",
       "      <td>61072.000000</td>\n",
       "      <td>...</td>\n",
       "      <td>61072.000000</td>\n",
       "      <td>61072.000000</td>\n",
       "      <td>61072.000000</td>\n",
       "      <td>61072.000000</td>\n",
       "      <td>6.107200e+04</td>\n",
       "      <td>6.107200e+04</td>\n",
       "      <td>61072.000000</td>\n",
       "      <td>61072.000000</td>\n",
       "      <td>61072.000000</td>\n",
       "      <td>61072.000000</td>\n",
       "    </tr>\n",
       "    <tr>\n",
       "      <th>mean</th>\n",
       "      <td>0.841728</td>\n",
       "      <td>14980.569655</td>\n",
       "      <td>43.019780</td>\n",
       "      <td>13.289740</td>\n",
       "      <td>1.728599</td>\n",
       "      <td>10.731661</td>\n",
       "      <td>447.561436</td>\n",
       "      <td>0.001654</td>\n",
       "      <td>8.256371e+04</td>\n",
       "      <td>5.639327</td>\n",
       "      <td>...</td>\n",
       "      <td>0.129748</td>\n",
       "      <td>16079.454447</td>\n",
       "      <td>48.175874</td>\n",
       "      <td>0.041427</td>\n",
       "      <td>1.462970e+05</td>\n",
       "      <td>1.835678e+05</td>\n",
       "      <td>23.410286</td>\n",
       "      <td>53965.677839</td>\n",
       "      <td>37677.943673</td>\n",
       "      <td>23761.373903</td>\n",
       "    </tr>\n",
       "    <tr>\n",
       "      <th>std</th>\n",
       "      <td>0.364999</td>\n",
       "      <td>9677.822935</td>\n",
       "      <td>10.917846</td>\n",
       "      <td>5.592948</td>\n",
       "      <td>1.261586</td>\n",
       "      <td>6.510608</td>\n",
       "      <td>286.975674</td>\n",
       "      <td>0.040633</td>\n",
       "      <td>4.506844e+05</td>\n",
       "      <td>3.834504</td>\n",
       "      <td>...</td>\n",
       "      <td>0.352161</td>\n",
       "      <td>21656.437108</td>\n",
       "      <td>24.711604</td>\n",
       "      <td>0.331746</td>\n",
       "      <td>1.630864e+05</td>\n",
       "      <td>1.831050e+05</td>\n",
       "      <td>11.879881</td>\n",
       "      <td>51343.560110</td>\n",
       "      <td>44996.832289</td>\n",
       "      <td>23316.613872</td>\n",
       "    </tr>\n",
       "    <tr>\n",
       "      <th>min</th>\n",
       "      <td>0.000000</td>\n",
       "      <td>1000.000000</td>\n",
       "      <td>36.000000</td>\n",
       "      <td>5.000000</td>\n",
       "      <td>0.000000</td>\n",
       "      <td>0.000000</td>\n",
       "      <td>30.000000</td>\n",
       "      <td>0.000000</td>\n",
       "      <td>6.000000e+01</td>\n",
       "      <td>0.000000</td>\n",
       "      <td>...</td>\n",
       "      <td>0.000000</td>\n",
       "      <td>0.000000</td>\n",
       "      <td>0.000000</td>\n",
       "      <td>0.000000</td>\n",
       "      <td>0.000000e+00</td>\n",
       "      <td>3.000000e+02</td>\n",
       "      <td>2.000000</td>\n",
       "      <td>0.000000</td>\n",
       "      <td>0.000000</td>\n",
       "      <td>200.000000</td>\n",
       "    </tr>\n",
       "    <tr>\n",
       "      <th>25%</th>\n",
       "      <td>1.000000</td>\n",
       "      <td>7500.000000</td>\n",
       "      <td>36.000000</td>\n",
       "      <td>9.000000</td>\n",
       "      <td>1.000000</td>\n",
       "      <td>6.000000</td>\n",
       "      <td>240.000000</td>\n",
       "      <td>0.000000</td>\n",
       "      <td>4.817750e+04</td>\n",
       "      <td>2.000000</td>\n",
       "      <td>...</td>\n",
       "      <td>0.000000</td>\n",
       "      <td>5619.000000</td>\n",
       "      <td>29.000000</td>\n",
       "      <td>0.000000</td>\n",
       "      <td>3.050475e+04</td>\n",
       "      <td>5.379975e+04</td>\n",
       "      <td>15.000000</td>\n",
       "      <td>22271.750000</td>\n",
       "      <td>10196.500000</td>\n",
       "      <td>8600.000000</td>\n",
       "    </tr>\n",
       "    <tr>\n",
       "      <th>50%</th>\n",
       "      <td>1.000000</td>\n",
       "      <td>12000.000000</td>\n",
       "      <td>36.000000</td>\n",
       "      <td>12.000000</td>\n",
       "      <td>2.000000</td>\n",
       "      <td>10.000000</td>\n",
       "      <td>371.000000</td>\n",
       "      <td>0.000000</td>\n",
       "      <td>6.750000e+04</td>\n",
       "      <td>5.000000</td>\n",
       "      <td>...</td>\n",
       "      <td>0.000000</td>\n",
       "      <td>10872.000000</td>\n",
       "      <td>47.000000</td>\n",
       "      <td>0.000000</td>\n",
       "      <td>8.108300e+04</td>\n",
       "      <td>1.161350e+05</td>\n",
       "      <td>22.000000</td>\n",
       "      <td>39889.000000</td>\n",
       "      <td>24912.500000</td>\n",
       "      <td>16800.500000</td>\n",
       "    </tr>\n",
       "    <tr>\n",
       "      <th>75%</th>\n",
       "      <td>1.000000</td>\n",
       "      <td>20000.000000</td>\n",
       "      <td>60.000000</td>\n",
       "      <td>16.000000</td>\n",
       "      <td>2.000000</td>\n",
       "      <td>14.000000</td>\n",
       "      <td>597.000000</td>\n",
       "      <td>0.000000</td>\n",
       "      <td>9.600000e+04</td>\n",
       "      <td>10.000000</td>\n",
       "      <td>...</td>\n",
       "      <td>0.000000</td>\n",
       "      <td>19510.250000</td>\n",
       "      <td>67.000000</td>\n",
       "      <td>0.000000</td>\n",
       "      <td>2.191132e+05</td>\n",
       "      <td>2.649670e+05</td>\n",
       "      <td>30.000000</td>\n",
       "      <td>68198.250000</td>\n",
       "      <td>48625.250000</td>\n",
       "      <td>30900.000000</td>\n",
       "    </tr>\n",
       "    <tr>\n",
       "      <th>max</th>\n",
       "      <td>1.000000</td>\n",
       "      <td>40000.000000</td>\n",
       "      <td>60.000000</td>\n",
       "      <td>30.000000</td>\n",
       "      <td>6.000000</td>\n",
       "      <td>34.000000</td>\n",
       "      <td>1719.000000</td>\n",
       "      <td>1.000000</td>\n",
       "      <td>1.100000e+08</td>\n",
       "      <td>10.000000</td>\n",
       "      <td>...</td>\n",
       "      <td>6.000000</td>\n",
       "      <td>863811.000000</td>\n",
       "      <td>145.000000</td>\n",
       "      <td>29.000000</td>\n",
       "      <td>3.188187e+06</td>\n",
       "      <td>3.431897e+06</td>\n",
       "      <td>151.000000</td>\n",
       "      <td>912795.000000</td>\n",
       "      <td>694521.000000</td>\n",
       "      <td>513700.000000</td>\n",
       "    </tr>\n",
       "  </tbody>\n",
       "</table>\n",
       "<p>8 rows × 47 columns</p>\n",
       "</div>"
      ],
      "text/plain": [
       "        loan_status     loan_amnt          term      int_rate         grade  \\\n",
       "count  61072.000000  61072.000000  61072.000000  61072.000000  61072.000000   \n",
       "mean       0.841728  14980.569655     43.019780     13.289740      1.728599   \n",
       "std        0.364999   9677.822935     10.917846      5.592948      1.261586   \n",
       "min        0.000000   1000.000000     36.000000      5.000000      0.000000   \n",
       "25%        1.000000   7500.000000     36.000000      9.000000      1.000000   \n",
       "50%        1.000000  12000.000000     36.000000     12.000000      2.000000   \n",
       "75%        1.000000  20000.000000     60.000000     16.000000      2.000000   \n",
       "max        1.000000  40000.000000     60.000000     30.000000      6.000000   \n",
       "\n",
       "          sub_grade   installment    pymnt_plan    annual_inc    emp_length  \\\n",
       "count  61072.000000  61072.000000  61072.000000  6.107200e+04  61072.000000   \n",
       "mean      10.731661    447.561436      0.001654  8.256371e+04      5.639327   \n",
       "std        6.510608    286.975674      0.040633  4.506844e+05      3.834504   \n",
       "min        0.000000     30.000000      0.000000  6.000000e+01      0.000000   \n",
       "25%        6.000000    240.000000      0.000000  4.817750e+04      2.000000   \n",
       "50%       10.000000    371.000000      0.000000  6.750000e+04      5.000000   \n",
       "75%       14.000000    597.000000      0.000000  9.600000e+04     10.000000   \n",
       "max       34.000000   1719.000000      1.000000  1.100000e+08     10.000000   \n",
       "\n",
       "       ...  pub_rec_bankruptcies      revol_bal    revol_util     tax_liens  \\\n",
       "count  ...          61072.000000   61072.000000  61072.000000  61072.000000   \n",
       "mean   ...              0.129748   16079.454447     48.175874      0.041427   \n",
       "std    ...              0.352161   21656.437108     24.711604      0.331746   \n",
       "min    ...              0.000000       0.000000      0.000000      0.000000   \n",
       "25%    ...              0.000000    5619.000000     29.000000      0.000000   \n",
       "50%    ...              0.000000   10872.000000     47.000000      0.000000   \n",
       "75%    ...              0.000000   19510.250000     67.000000      0.000000   \n",
       "max    ...              6.000000  863811.000000    145.000000     29.000000   \n",
       "\n",
       "        tot_cur_bal  tot_hi_cred_lim     total_acc  total_bal_ex_mort  \\\n",
       "count  6.107200e+04     6.107200e+04  61072.000000       61072.000000   \n",
       "mean   1.462970e+05     1.835678e+05     23.410286       53965.677839   \n",
       "std    1.630864e+05     1.831050e+05     11.879881       51343.560110   \n",
       "min    0.000000e+00     3.000000e+02      2.000000           0.000000   \n",
       "25%    3.050475e+04     5.379975e+04     15.000000       22271.750000   \n",
       "50%    8.108300e+04     1.161350e+05     22.000000       39889.000000   \n",
       "75%    2.191132e+05     2.649670e+05     30.000000       68198.250000   \n",
       "max    3.188187e+06     3.431897e+06    151.000000      912795.000000   \n",
       "\n",
       "        total_bal_il  total_bc_limit  \n",
       "count   61072.000000    61072.000000  \n",
       "mean    37677.943673    23761.373903  \n",
       "std     44996.832289    23316.613872  \n",
       "min         0.000000      200.000000  \n",
       "25%     10196.500000     8600.000000  \n",
       "50%     24912.500000    16800.500000  \n",
       "75%     48625.250000    30900.000000  \n",
       "max    694521.000000   513700.000000  \n",
       "\n",
       "[8 rows x 47 columns]"
      ]
     },
     "execution_count": 2,
     "metadata": {},
     "output_type": "execute_result"
    }
   ],
   "source": [
    "# Data Preprocessing\n",
    "missing_values = ['Nan', 'n/a', '--']\n",
    "data = pd.read_csv('/Users/paskou/Documents/Imperial/Big Data I/Assignment_1/Loan_data_part_I.csv', na_values = missing_values)\n",
    "#data.isnull().values.any()\n",
    "data['loan_status'][data['loan_status'] == 'Fail'] = 0\n",
    "data['loan_status'][data['loan_status'] == 'Current'] = 1\n",
    "data = data.drop('id', axis = 1)\n",
    "data = data.astype('int')\n",
    "data.describe()"
   ]
  },
  {
   "cell_type": "code",
   "execution_count": 3,
   "metadata": {},
   "outputs": [],
   "source": [
    "# Splitting the dataset into\n",
    "X = data.drop('loan_status', axis = 1)\n",
    "y = data['loan_status']\n",
    "\n",
    "# Applying Random Undersampling with replacement\n",
    "#rus = RandomUnderSampler(random_state = 69, replacement = True)\n",
    "#X, y = rus.fit_sample(X, y)\n",
    "\n",
    "# Applying Random Oversampling with replacement\n",
    "ros = RandomOverSampler(random_state = 69)\n",
    "X, y = ros.fit_sample(X, y)\n",
    "\n",
    "# Applying Random Oversampling with replacement\n",
    "#ross = SMOTE(random_state = 69)\n",
    "#X, y = ross.fit_sample(X, y)\n",
    "\n",
    "X_train, X_test, y_train, y_test = train_test_split(X, y, test_size = 0.2, shuffle = True, random_state = 69)"
   ]
  },
  {
   "cell_type": "code",
   "execution_count": 4,
   "metadata": {},
   "outputs": [],
   "source": [
    "# Standardising the data\n",
    "sc_x = StandardScaler()\n",
    "X_train = sc_x.fit_transform(X_train)\n",
    "X_test = sc_x.transform(X_test)"
   ]
  },
  {
   "cell_type": "code",
   "execution_count": 5,
   "metadata": {},
   "outputs": [],
   "source": [
    "# Normalising the data (min max)\n",
    "#scaler = MinMaxScaler()\n",
    "#scaler.fit(X_train)\n",
    "#X_train = scaler.transform(X_train)\n",
    "#X_test = scaler.transform(X_test)"
   ]
  },
  {
   "cell_type": "markdown",
   "metadata": {},
   "source": [
    "## Random Forest"
   ]
  },
  {
   "cell_type": "code",
   "execution_count": 39,
   "metadata": {},
   "outputs": [],
   "source": [
    "clf = RandomForestClassifier(n_estimators = 1000, criterion = 'gini', \n",
    "                              min_samples_split = 20, min_samples_leaf = 10, random_state = 69)"
   ]
  },
  {
   "cell_type": "code",
   "execution_count": null,
   "metadata": {},
   "outputs": [],
   "source": [
    "# Grid Search for hyperparameters optimization\n",
    "criterion = ['gini', 'entropy']\n",
    "n_estimators = [500, 1000]\n",
    "min_samples_split = [20, 25, 30, 35, 40]\n",
    "min_samples_leaf = [1, 3, 5, 7, 10]\n",
    "\n",
    "param_grid = dict(min_samples_split = min_samples_split, n_estimators = n_estimators, \n",
    "                  criterion = criterion, min_samples_leaf = min_samples_leaf)\n",
    "\n",
    "cv = KFold(n_splits = 5, shuffle = True, random_state = 69)\n",
    "grid_search = GridSearchCV(estimator = clf, param_grid = param_grid, scoring = 'accuracy', cv = cv, n_jobs = -1)\n",
    "grid_search = grid_search.fit(X_train, y_train)\n",
    "\n",
    "# summarize results\n",
    "print(\"Best: %f using %s\" % (grid_search.best_score_, grid_search.best_params_))\n",
    "means = grid_search.cv_results_['mean_test_score']\n",
    "stds = grid_search.cv_results_['std_test_score']\n",
    "params = grid_search.cv_results_['params']\n",
    "for mean, stdev, param in zip(means, stds, params):\n",
    "    print(\"%f (%f) with: %r\" % (mean, stdev, param)) "
   ]
  },
  {
   "cell_type": "code",
   "execution_count": 40,
   "metadata": {},
   "outputs": [
    {
     "data": {
      "text/plain": [
       "RandomForestClassifier(bootstrap=True, ccp_alpha=0.0, class_weight=None,\n",
       "                       criterion='gini', max_depth=None, max_features='auto',\n",
       "                       max_leaf_nodes=None, max_samples=None,\n",
       "                       min_impurity_decrease=0.0, min_impurity_split=None,\n",
       "                       min_samples_leaf=10, min_samples_split=20,\n",
       "                       min_weight_fraction_leaf=0.0, n_estimators=1000,\n",
       "                       n_jobs=None, oob_score=False, random_state=69, verbose=0,\n",
       "                       warm_start=False)"
      ]
     },
     "execution_count": 40,
     "metadata": {},
     "output_type": "execute_result"
    }
   ],
   "source": [
    "clf.fit(X_train, y_train)"
   ]
  },
  {
   "cell_type": "markdown",
   "metadata": {},
   "source": [
    "### Results Test Set"
   ]
  },
  {
   "cell_type": "code",
   "execution_count": 41,
   "metadata": {},
   "outputs": [
    {
     "name": "stdout",
     "output_type": "stream",
     "text": [
      "The roc auc in the test set is 0.962 and the accuracy is 0.89\n"
     ]
    }
   ],
   "source": [
    "RF_test_fpr, RF_test_tpr, _ = roc_curve(y_test, clf.predict_proba(X_test)[:,1])\n",
    "RF_test_roc_auc = auc(RF_test_fpr, RF_test_tpr)\n",
    "accuracy = accuracy_score(y_test, clf.predict(X_test))\n",
    "print(\"The roc auc in the test set is %0.3f and the accuracy is %0.2f\"\n",
    "      %(RF_test_roc_auc, accuracy))"
   ]
  },
  {
   "cell_type": "code",
   "execution_count": 42,
   "metadata": {},
   "outputs": [
    {
     "data": {
      "image/png": "[encoded data removed]",
      "text/plain": [
       "<Figure size 432x288 with 1 Axes>"
      ]
     },
     "metadata": {
      "needs_background": "light"
     },
     "output_type": "display_data"
    }
   ],
   "source": [
    "# Plotting the graph\n",
    "plt.plot(RF_test_fpr, RF_test_tpr, 'b', label = 'AUC = %0.3f' % RF_test_roc_auc)\n",
    "plt.legend(loc = 'lower right')\n",
    "plt.plot([0, 1], [0, 1],'r--')\n",
    "plt.xlim([0, 1])\n",
    "plt.ylim([0, 1])\n",
    "plt.ylabel('True Positive Rate')\n",
    "plt.xlabel('False Positive Rate')\n",
    "plt.show()"
   ]
  },
  {
   "cell_type": "code",
   "execution_count": 43,
   "metadata": {},
   "outputs": [
    {
     "data": {
      "text/plain": [
       "array([[9598,  699],\n",
       "       [1468, 8798]])"
      ]
     },
     "execution_count": 43,
     "metadata": {},
     "output_type": "execute_result"
    }
   ],
   "source": [
    "# Confusion matrix\n",
    "cf_RF = confusion_matrix(y_test, clf.predict(X_test))\n",
    "#fig_RF = plt.figure(figsize = (4,3))\n",
    "#plt.title('Random Forest - Confusion Matirx')\n",
    "#ax = fig_RF.gca()\n",
    "#sn.heatmap(cf_RF, annot=True)\n",
    "cf_RF"
   ]
  },
  {
   "cell_type": "markdown",
   "metadata": {},
   "source": [
    "## Neural Networks"
   ]
  },
  {
   "cell_type": "code",
   "execution_count": 24,
   "metadata": {},
   "outputs": [],
   "source": [
    "# Hyperparameters to be optimzed\n",
    "\n",
    "#lr = [0.1, 0.01, 0.001]\n",
    "#optimizer = ['adam', 'SGD', 'RMSprop']\n",
    "kernel_initializer = ['normal', 'uniform']\n",
    "batch_size = [15, 30, 60]\n",
    "#epochs = [100, 150, 200]\n",
    "#activation = ['relu', 'elu', 'tanh']"
   ]
  },
  {
   "cell_type": "code",
   "execution_count": 25,
   "metadata": {},
   "outputs": [],
   "source": [
    "def build_classifier():#optimizer = optimizer, lr = lr, kernel_initializer = kernel_initializer):\n",
    "    # Initialising the ANN\n",
    "    classifier = Sequential()\n",
    "    # Adding the input layer and the first hidden layer\n",
    "    classifier.add(Dense(units = 20, kernel_initializer = 'normal', activation = 'relu', input_dim = 46))\n",
    "    # Adding dropout for NN training\n",
    "    classifier.add(Dropout(0.5))\n",
    "    # Adding the second hidden layer\n",
    "    classifier.add(Dense(units = 7, kernel_initializer = 'normal', activation = 'relu'))\n",
    "    # Adding dropout for NN training\n",
    "    classifier.add(Dropout(0.5))\n",
    "    # Adding the third hidden layer\n",
    "    classifier.add(Dense(units = 5, kernel_initializer = 'normal', activation = 'relu'))\n",
    "    # Adding the output layer\n",
    "    classifier.add(Dense(units = 1, kernel_initializer = 'normal', activation = 'sigmoid'))\n",
    "    # Compiling the ANN\n",
    "    classifier.compile(optimizer = 'adam', loss = 'binary_crossentropy', metrics = ['accuracy'])\n",
    "    return classifier"
   ]
  },
  {
   "cell_type": "code",
   "execution_count": 26,
   "metadata": {},
   "outputs": [],
   "source": [
    "classifier = KerasClassifier(build_fn = build_classifier)"
   ]
  },
  {
   "cell_type": "code",
   "execution_count": 27,
   "metadata": {},
   "outputs": [
    {
     "name": "stdout",
     "output_type": "stream",
     "text": [
      "Epoch 1/70\n",
      "82249/82249 [==============================] - 6s 79us/step - loss: 0.6429 - accuracy: 0.6348\n",
      "Epoch 2/70\n",
      "82249/82249 [==============================] - 6s 68us/step - loss: 0.6331 - accuracy: 0.6477\n",
      "Epoch 3/70\n",
      "82249/82249 [==============================] - 6s 69us/step - loss: 0.6316 - accuracy: 0.6480\n",
      "Epoch 4/70\n",
      "82249/82249 [==============================] - 6s 69us/step - loss: 0.6303 - accuracy: 0.6500\n",
      "Epoch 5/70\n",
      "82249/82249 [==============================] - 5s 65us/step - loss: 0.6299 - accuracy: 0.6507\n",
      "Epoch 6/70\n",
      "82249/82249 [==============================] - 5s 64us/step - loss: 0.6288 - accuracy: 0.6506\n",
      "Epoch 7/70\n",
      "82249/82249 [==============================] - 5s 66us/step - loss: 0.6283 - accuracy: 0.6524\n",
      "Epoch 8/70\n",
      "82249/82249 [==============================] - 6s 67us/step - loss: 0.6268 - accuracy: 0.6531\n",
      "Epoch 9/70\n",
      "82249/82249 [==============================] - 5s 66us/step - loss: 0.6267 - accuracy: 0.6546\n",
      "Epoch 10/70\n",
      "82249/82249 [==============================] - 5s 66us/step - loss: 0.6267 - accuracy: 0.6537\n",
      "Epoch 11/70\n",
      "82249/82249 [==============================] - 6s 67us/step - loss: 0.6268 - accuracy: 0.6542\n",
      "Epoch 12/70\n",
      "82249/82249 [==============================] - 6s 72us/step - loss: 0.6270 - accuracy: 0.6548\n",
      "Epoch 13/70\n",
      "82249/82249 [==============================] - 6s 71us/step - loss: 0.6271 - accuracy: 0.6542\n",
      "Epoch 14/70\n",
      "82249/82249 [==============================] - 6s 70us/step - loss: 0.6264 - accuracy: 0.6569\n",
      "Epoch 15/70\n",
      "82249/82249 [==============================] - 6s 67us/step - loss: 0.6254 - accuracy: 0.6573\n",
      "Epoch 16/70\n",
      "82249/82249 [==============================] - 6s 67us/step - loss: 0.6256 - accuracy: 0.6578\n",
      "Epoch 17/70\n",
      "82249/82249 [==============================] - 5s 66us/step - loss: 0.6255 - accuracy: 0.6570\n",
      "Epoch 18/70\n",
      "82249/82249 [==============================] - 6s 67us/step - loss: 0.6249 - accuracy: 0.6567\n",
      "Epoch 19/70\n",
      "82249/82249 [==============================] - 6s 67us/step - loss: 0.6245 - accuracy: 0.6584\n",
      "Epoch 20/70\n",
      "82249/82249 [==============================] - 6s 69us/step - loss: 0.6248 - accuracy: 0.6586\n",
      "Epoch 21/70\n",
      "82249/82249 [==============================] - 6s 68us/step - loss: 0.6253 - accuracy: 0.6576\n",
      "Epoch 22/70\n",
      "82249/82249 [==============================] - 6s 72us/step - loss: 0.6243 - accuracy: 0.6572\n",
      "Epoch 23/70\n",
      "82249/82249 [==============================] - 6s 68us/step - loss: 0.6240 - accuracy: 0.6591\n",
      "Epoch 24/70\n",
      "82249/82249 [==============================] - 5s 66us/step - loss: 0.6241 - accuracy: 0.6592\n",
      "Epoch 25/70\n",
      "82249/82249 [==============================] - 6s 70us/step - loss: 0.6243 - accuracy: 0.6585\n",
      "Epoch 26/70\n",
      "82249/82249 [==============================] - 6s 69us/step - loss: 0.6250 - accuracy: 0.6582\n",
      "Epoch 27/70\n",
      "82249/82249 [==============================] - 6s 68us/step - loss: 0.6236 - accuracy: 0.6591\n",
      "Epoch 28/70\n",
      "82249/82249 [==============================] - 6s 68us/step - loss: 0.6234 - accuracy: 0.6582\n",
      "Epoch 29/70\n",
      "82249/82249 [==============================] - 5s 65us/step - loss: 0.6232 - accuracy: 0.6600\n",
      "Epoch 30/70\n",
      "82249/82249 [==============================] - 5s 64us/step - loss: 0.6228 - accuracy: 0.6604\n",
      "Epoch 31/70\n",
      "82249/82249 [==============================] - 5s 63us/step - loss: 0.6233 - accuracy: 0.6600\n",
      "Epoch 32/70\n",
      "82249/82249 [==============================] - 5s 64us/step - loss: 0.6232 - accuracy: 0.6581\n",
      "Epoch 33/70\n",
      "82249/82249 [==============================] - 5s 65us/step - loss: 0.6233 - accuracy: 0.6598\n",
      "Epoch 34/70\n",
      "82249/82249 [==============================] - 5s 64us/step - loss: 0.6232 - accuracy: 0.6583\n",
      "Epoch 35/70\n",
      "82249/82249 [==============================] - 5s 64us/step - loss: 0.6225 - accuracy: 0.6589\n",
      "Epoch 36/70\n",
      "82249/82249 [==============================] - 5s 64us/step - loss: 0.6218 - accuracy: 0.6608\n",
      "Epoch 37/70\n",
      "82249/82249 [==============================] - 5s 65us/step - loss: 0.6223 - accuracy: 0.6600\n",
      "Epoch 38/70\n",
      "82249/82249 [==============================] - 5s 66us/step - loss: 0.6222 - accuracy: 0.6594\n",
      "Epoch 39/70\n",
      "82249/82249 [==============================] - 5s 66us/step - loss: 0.6221 - accuracy: 0.6601\n",
      "Epoch 40/70\n",
      "82249/82249 [==============================] - 5s 66us/step - loss: 0.6217 - accuracy: 0.6601\n",
      "Epoch 41/70\n",
      "82249/82249 [==============================] - 5s 65us/step - loss: 0.6219 - accuracy: 0.6601\n",
      "Epoch 42/70\n",
      "82249/82249 [==============================] - 5s 65us/step - loss: 0.6221 - accuracy: 0.6604\n",
      "Epoch 43/70\n",
      "82249/82249 [==============================] - 5s 66us/step - loss: 0.6223 - accuracy: 0.6601\n",
      "Epoch 44/70\n",
      "82249/82249 [==============================] - 5s 65us/step - loss: 0.6218 - accuracy: 0.6600\n",
      "Epoch 45/70\n",
      "82249/82249 [==============================] - 5s 65us/step - loss: 0.6213 - accuracy: 0.6625\n",
      "Epoch 46/70\n",
      "82249/82249 [==============================] - 5s 63us/step - loss: 0.6220 - accuracy: 0.6609\n",
      "Epoch 47/70\n",
      "82249/82249 [==============================] - 5s 64us/step - loss: 0.6220 - accuracy: 0.6611\n",
      "Epoch 48/70\n",
      "82249/82249 [==============================] - 5s 65us/step - loss: 0.6211 - accuracy: 0.6633\n",
      "Epoch 49/70\n",
      "82249/82249 [==============================] - 6s 67us/step - loss: 0.6222 - accuracy: 0.6607\n",
      "Epoch 50/70\n",
      "82249/82249 [==============================] - 6s 68us/step - loss: 0.6210 - accuracy: 0.6626\n",
      "Epoch 51/70\n",
      "82249/82249 [==============================] - 5s 65us/step - loss: 0.6220 - accuracy: 0.6616\n",
      "Epoch 52/70\n",
      "82249/82249 [==============================] - 5s 63us/step - loss: 0.6224 - accuracy: 0.6606\n",
      "Epoch 53/70\n",
      "82249/82249 [==============================] - 5s 66us/step - loss: 0.6215 - accuracy: 0.6623\n",
      "Epoch 54/70\n",
      "82249/82249 [==============================] - 5s 66us/step - loss: 0.6228 - accuracy: 0.6601\n",
      "Epoch 55/70\n",
      "82249/82249 [==============================] - 5s 65us/step - loss: 0.6223 - accuracy: 0.6608\n",
      "Epoch 56/70\n",
      "82249/82249 [==============================] - 5s 65us/step - loss: 0.6215 - accuracy: 0.6624\n",
      "Epoch 57/70\n",
      "82249/82249 [==============================] - 5s 65us/step - loss: 0.6215 - accuracy: 0.6607\n",
      "Epoch 58/70\n",
      "82249/82249 [==============================] - 5s 65us/step - loss: 0.6209 - accuracy: 0.6615\n",
      "Epoch 59/70\n",
      "82249/82249 [==============================] - 5s 64us/step - loss: 0.6220 - accuracy: 0.6606\n",
      "Epoch 60/70\n",
      "82249/82249 [==============================] - 5s 65us/step - loss: 0.6213 - accuracy: 0.6626\n",
      "Epoch 61/70\n",
      "82249/82249 [==============================] - 5s 66us/step - loss: 0.6222 - accuracy: 0.6617\n",
      "Epoch 62/70\n",
      "82249/82249 [==============================] - 5s 66us/step - loss: 0.6203 - accuracy: 0.6630\n",
      "Epoch 63/70\n",
      "82249/82249 [==============================] - 5s 67us/step - loss: 0.6211 - accuracy: 0.6609\n",
      "Epoch 64/70\n",
      "82249/82249 [==============================] - 5s 65us/step - loss: 0.6211 - accuracy: 0.6626\n",
      "Epoch 65/70\n",
      "82249/82249 [==============================] - 5s 65us/step - loss: 0.6204 - accuracy: 0.6636\n",
      "Epoch 66/70\n",
      "82249/82249 [==============================] - 5s 64us/step - loss: 0.6209 - accuracy: 0.6629\n",
      "Epoch 67/70\n",
      "82249/82249 [==============================] - 5s 65us/step - loss: 0.6205 - accuracy: 0.6638\n",
      "Epoch 68/70\n",
      "82249/82249 [==============================] - 5s 64us/step - loss: 0.6215 - accuracy: 0.6621\n",
      "Epoch 69/70\n",
      "82249/82249 [==============================] - 5s 63us/step - loss: 0.6218 - accuracy: 0.6619\n",
      "Epoch 70/70\n",
      "82249/82249 [==============================] - 5s 64us/step - loss: 0.6202 - accuracy: 0.6636\n"
     ]
    },
    {
     "data": {
      "text/plain": [
       "<keras.callbacks.callbacks.History at 0x7fddfa2b8850>"
      ]
     },
     "execution_count": 27,
     "metadata": {},
     "output_type": "execute_result"
    }
   ],
   "source": [
    "classifier.fit(X_train, y_train, batch_size = 30, \n",
    "               epochs = 70)#, callbacks = [EarlyStopping(monitor = 'loss', patience = 5)])"
   ]
  },
  {
   "cell_type": "code",
   "execution_count": null,
   "metadata": {},
   "outputs": [],
   "source": [
    "# Grid Search for hyperparameters optimization\n",
    "\n",
    "param_grid = dict(kernel_initializer = kernel_initializer, batch_size = batch_size)#optimizer = optimizer, epochs = epochs\n",
    "\n",
    "cv = KFold(n_splits = 5, shuffle = True, random_state = 69)\n",
    "grid_search = GridSearchCV(estimator = classifier, param_grid = param_grid, scoring = 'accuracy', cv = cv, n_jobs = -1)\n",
    "grid_search = grid_search.fit(X = X_train, y = y_train)\n",
    "\n",
    "# summarize results\n",
    "print(\"Best: %f using %s\" % (grid_search.best_score_, grid_search.best_params_))\n",
    "means = grid_search.cv_results_['mean_test_score']\n",
    "stds = grid_search.cv_results_['std_test_score']\n",
    "params = grid_search.cv_results_['params']\n",
    "for mean, stdev, param in zip(means, stds, params):\n",
    "    print(\"%f (%f) with: %r\" % (mean, stdev, param)) "
   ]
  },
  {
   "cell_type": "markdown",
   "metadata": {},
   "source": [
    "### Results Test Set"
   ]
  },
  {
   "cell_type": "code",
   "execution_count": 28,
   "metadata": {},
   "outputs": [
    {
     "name": "stdout",
     "output_type": "stream",
     "text": [
      "The roc auc in the test set is 0.725 and the accuracy is 0.67\n"
     ]
    }
   ],
   "source": [
    "NN_test_fpr, NN_test_tpr, _ = roc_curve(y_test, classifier.predict_proba(X_test)[:,1])\n",
    "NN_test_roc_auc = auc(NN_test_fpr, NN_test_tpr)\n",
    "accuracy = accuracy_score(y_test, classifier.predict(X_test))\n",
    "print(\"The roc auc in the test set is %0.3f and the accuracy is %0.2f\"\n",
    "      %(NN_test_roc_auc, accuracy))"
   ]
  },
  {
   "cell_type": "code",
   "execution_count": 29,
   "metadata": {},
   "outputs": [
    {
     "data": {
      "image/png": "[encoded data removed]",
      "text/plain": [
       "<Figure size 432x288 with 1 Axes>"
      ]
     },
     "metadata": {
      "needs_background": "light"
     },
     "output_type": "display_data"
    }
   ],
   "source": [
    "# Plotting the graph\n",
    "plt.plot(NN_test_fpr, NN_test_tpr, 'b', label = 'AUC = %0.3f' % NN_test_roc_auc)\n",
    "plt.legend(loc = 'lower right')\n",
    "plt.plot([0, 1], [0, 1],'r--')\n",
    "plt.xlim([0, 1])\n",
    "plt.ylim([0, 1])\n",
    "plt.ylabel('True Positive Rate')\n",
    "plt.xlabel('False Positive Rate')\n",
    "plt.show()"
   ]
  },
  {
   "cell_type": "code",
   "execution_count": 30,
   "metadata": {},
   "outputs": [
    {
     "data": {
      "text/plain": [
       "array([[7087, 3210],\n",
       "       [3557, 6709]])"
      ]
     },
     "execution_count": 30,
     "metadata": {},
     "output_type": "execute_result"
    }
   ],
   "source": [
    "# Confusion matrix\n",
    "cf_NN = confusion_matrix(y_test, classifier.predict(X_test))\n",
    "#fig_NN = plt.figure(figsize = (7,5))\n",
    "#plt.title('Neural Networks - Confusion Matirx')\n",
    "#ax = fig_NN.gca()\n",
    "#sn.heatmap(cf_NN, annot=True)\n",
    "cf_NN"
   ]
  },
  {
   "cell_type": "markdown",
   "metadata": {},
   "source": [
    "## Out of Sample"
   ]
  },
  {
   "cell_type": "code",
   "execution_count": 31,
   "metadata": {},
   "outputs": [
    {
     "name": "stderr",
     "output_type": "stream",
     "text": [
      "/opt/anaconda3/lib/python3.7/site-packages/ipykernel_launcher.py:5: SettingWithCopyWarning: \n",
      "A value is trying to be set on a copy of a slice from a DataFrame\n",
      "\n",
      "See the caveats in the documentation: https://pandas.pydata.org/pandas-docs/stable/user_guide/indexing.html#returning-a-view-versus-a-copy\n",
      "  \"\"\"\n",
      "/opt/anaconda3/lib/python3.7/site-packages/ipykernel_launcher.py:6: SettingWithCopyWarning: \n",
      "A value is trying to be set on a copy of a slice from a DataFrame\n",
      "\n",
      "See the caveats in the documentation: https://pandas.pydata.org/pandas-docs/stable/user_guide/indexing.html#returning-a-view-versus-a-copy\n",
      "  \n"
     ]
    },
    {
     "data": {
      "text/html": [
       "<div>\n",
       "<style scoped>\n",
       "    .dataframe tbody tr th:only-of-type {\n",
       "        vertical-align: middle;\n",
       "    }\n",
       "\n",
       "    .dataframe tbody tr th {\n",
       "        vertical-align: top;\n",
       "    }\n",
       "\n",
       "    .dataframe thead th {\n",
       "        text-align: right;\n",
       "    }\n",
       "</style>\n",
       "<table border=\"1\" class=\"dataframe\">\n",
       "  <thead>\n",
       "    <tr style=\"text-align: right;\">\n",
       "      <th></th>\n",
       "      <th>loan_status</th>\n",
       "      <th>loan_amnt</th>\n",
       "      <th>term</th>\n",
       "      <th>int_rate</th>\n",
       "      <th>grade</th>\n",
       "      <th>sub_grade</th>\n",
       "      <th>installment</th>\n",
       "      <th>pymnt_plan</th>\n",
       "      <th>annual_inc</th>\n",
       "      <th>emp_length</th>\n",
       "      <th>...</th>\n",
       "      <th>pub_rec_bankruptcies</th>\n",
       "      <th>revol_bal</th>\n",
       "      <th>revol_util</th>\n",
       "      <th>tax_liens</th>\n",
       "      <th>tot_cur_bal</th>\n",
       "      <th>tot_hi_cred_lim</th>\n",
       "      <th>total_acc</th>\n",
       "      <th>total_bal_ex_mort</th>\n",
       "      <th>total_bal_il</th>\n",
       "      <th>total_bc_limit</th>\n",
       "    </tr>\n",
       "  </thead>\n",
       "  <tbody>\n",
       "    <tr>\n",
       "      <th>count</th>\n",
       "      <td>56858.000000</td>\n",
       "      <td>56858.000000</td>\n",
       "      <td>56858.000000</td>\n",
       "      <td>56858.000000</td>\n",
       "      <td>56858.000000</td>\n",
       "      <td>56858.000000</td>\n",
       "      <td>56858.000000</td>\n",
       "      <td>56858.000000</td>\n",
       "      <td>5.685800e+04</td>\n",
       "      <td>56858.000000</td>\n",
       "      <td>...</td>\n",
       "      <td>56858.000000</td>\n",
       "      <td>56858.000000</td>\n",
       "      <td>56858.000000</td>\n",
       "      <td>56858.000000</td>\n",
       "      <td>5.685800e+04</td>\n",
       "      <td>5.685800e+04</td>\n",
       "      <td>56858.000000</td>\n",
       "      <td>56858.000000</td>\n",
       "      <td>56858.000000</td>\n",
       "      <td>56858.000000</td>\n",
       "    </tr>\n",
       "    <tr>\n",
       "      <th>mean</th>\n",
       "      <td>0.886436</td>\n",
       "      <td>15730.996518</td>\n",
       "      <td>43.542158</td>\n",
       "      <td>12.583629</td>\n",
       "      <td>1.581044</td>\n",
       "      <td>9.883112</td>\n",
       "      <td>459.807292</td>\n",
       "      <td>0.001126</td>\n",
       "      <td>8.172863e+04</td>\n",
       "      <td>5.673555</td>\n",
       "      <td>...</td>\n",
       "      <td>0.131978</td>\n",
       "      <td>16157.137606</td>\n",
       "      <td>44.436983</td>\n",
       "      <td>0.041349</td>\n",
       "      <td>1.465933e+05</td>\n",
       "      <td>1.871312e+05</td>\n",
       "      <td>22.773312</td>\n",
       "      <td>52951.649355</td>\n",
       "      <td>36597.190439</td>\n",
       "      <td>26034.567044</td>\n",
       "    </tr>\n",
       "    <tr>\n",
       "      <th>std</th>\n",
       "      <td>0.317283</td>\n",
       "      <td>10024.372216</td>\n",
       "      <td>11.141357</td>\n",
       "      <td>5.278695</td>\n",
       "      <td>1.204951</td>\n",
       "      <td>6.064186</td>\n",
       "      <td>289.315062</td>\n",
       "      <td>0.033532</td>\n",
       "      <td>8.077752e+04</td>\n",
       "      <td>3.823672</td>\n",
       "      <td>...</td>\n",
       "      <td>0.344649</td>\n",
       "      <td>23235.287381</td>\n",
       "      <td>25.200620</td>\n",
       "      <td>0.342451</td>\n",
       "      <td>1.683264e+05</td>\n",
       "      <td>1.892716e+05</td>\n",
       "      <td>12.000394</td>\n",
       "      <td>52809.057967</td>\n",
       "      <td>45070.569049</td>\n",
       "      <td>25512.570272</td>\n",
       "    </tr>\n",
       "    <tr>\n",
       "      <th>min</th>\n",
       "      <td>0.000000</td>\n",
       "      <td>1000.000000</td>\n",
       "      <td>36.000000</td>\n",
       "      <td>5.000000</td>\n",
       "      <td>0.000000</td>\n",
       "      <td>0.000000</td>\n",
       "      <td>6.000000</td>\n",
       "      <td>0.000000</td>\n",
       "      <td>2.500000e+01</td>\n",
       "      <td>0.000000</td>\n",
       "      <td>...</td>\n",
       "      <td>0.000000</td>\n",
       "      <td>0.000000</td>\n",
       "      <td>0.000000</td>\n",
       "      <td>0.000000</td>\n",
       "      <td>0.000000e+00</td>\n",
       "      <td>2.000000e+02</td>\n",
       "      <td>2.000000</td>\n",
       "      <td>0.000000</td>\n",
       "      <td>0.000000</td>\n",
       "      <td>100.000000</td>\n",
       "    </tr>\n",
       "    <tr>\n",
       "      <th>25%</th>\n",
       "      <td>1.000000</td>\n",
       "      <td>8000.000000</td>\n",
       "      <td>36.000000</td>\n",
       "      <td>9.000000</td>\n",
       "      <td>1.000000</td>\n",
       "      <td>5.000000</td>\n",
       "      <td>248.000000</td>\n",
       "      <td>0.000000</td>\n",
       "      <td>4.800000e+04</td>\n",
       "      <td>2.000000</td>\n",
       "      <td>...</td>\n",
       "      <td>0.000000</td>\n",
       "      <td>5241.000000</td>\n",
       "      <td>25.000000</td>\n",
       "      <td>0.000000</td>\n",
       "      <td>2.846925e+04</td>\n",
       "      <td>5.329250e+04</td>\n",
       "      <td>14.000000</td>\n",
       "      <td>20726.250000</td>\n",
       "      <td>9149.250000</td>\n",
       "      <td>9500.000000</td>\n",
       "    </tr>\n",
       "    <tr>\n",
       "      <th>50%</th>\n",
       "      <td>1.000000</td>\n",
       "      <td>13400.000000</td>\n",
       "      <td>36.000000</td>\n",
       "      <td>11.000000</td>\n",
       "      <td>1.000000</td>\n",
       "      <td>9.000000</td>\n",
       "      <td>381.000000</td>\n",
       "      <td>0.000000</td>\n",
       "      <td>6.800000e+04</td>\n",
       "      <td>5.000000</td>\n",
       "      <td>...</td>\n",
       "      <td>0.000000</td>\n",
       "      <td>10551.500000</td>\n",
       "      <td>43.000000</td>\n",
       "      <td>0.000000</td>\n",
       "      <td>7.808500e+04</td>\n",
       "      <td>1.193000e+05</td>\n",
       "      <td>21.000000</td>\n",
       "      <td>38662.000000</td>\n",
       "      <td>23866.000000</td>\n",
       "      <td>18500.000000</td>\n",
       "    </tr>\n",
       "    <tr>\n",
       "      <th>75%</th>\n",
       "      <td>1.000000</td>\n",
       "      <td>21000.000000</td>\n",
       "      <td>60.000000</td>\n",
       "      <td>16.000000</td>\n",
       "      <td>2.000000</td>\n",
       "      <td>14.000000</td>\n",
       "      <td>620.000000</td>\n",
       "      <td>0.000000</td>\n",
       "      <td>9.763750e+04</td>\n",
       "      <td>10.000000</td>\n",
       "      <td>...</td>\n",
       "      <td>0.000000</td>\n",
       "      <td>19318.750000</td>\n",
       "      <td>63.000000</td>\n",
       "      <td>0.000000</td>\n",
       "      <td>2.199355e+05</td>\n",
       "      <td>2.706010e+05</td>\n",
       "      <td>29.000000</td>\n",
       "      <td>67183.750000</td>\n",
       "      <td>47537.250000</td>\n",
       "      <td>33800.000000</td>\n",
       "    </tr>\n",
       "    <tr>\n",
       "      <th>max</th>\n",
       "      <td>1.000000</td>\n",
       "      <td>40000.000000</td>\n",
       "      <td>60.000000</td>\n",
       "      <td>30.000000</td>\n",
       "      <td>6.000000</td>\n",
       "      <td>34.000000</td>\n",
       "      <td>1714.000000</td>\n",
       "      <td>1.000000</td>\n",
       "      <td>7.845315e+06</td>\n",
       "      <td>10.000000</td>\n",
       "      <td>...</td>\n",
       "      <td>4.000000</td>\n",
       "      <td>629372.000000</td>\n",
       "      <td>154.000000</td>\n",
       "      <td>22.000000</td>\n",
       "      <td>3.250980e+06</td>\n",
       "      <td>3.817941e+06</td>\n",
       "      <td>151.000000</td>\n",
       "      <td>720502.000000</td>\n",
       "      <td>676089.000000</td>\n",
       "      <td>372000.000000</td>\n",
       "    </tr>\n",
       "  </tbody>\n",
       "</table>\n",
       "<p>8 rows × 47 columns</p>\n",
       "</div>"
      ],
      "text/plain": [
       "        loan_status     loan_amnt          term      int_rate         grade  \\\n",
       "count  56858.000000  56858.000000  56858.000000  56858.000000  56858.000000   \n",
       "mean       0.886436  15730.996518     43.542158     12.583629      1.581044   \n",
       "std        0.317283  10024.372216     11.141357      5.278695      1.204951   \n",
       "min        0.000000   1000.000000     36.000000      5.000000      0.000000   \n",
       "25%        1.000000   8000.000000     36.000000      9.000000      1.000000   \n",
       "50%        1.000000  13400.000000     36.000000     11.000000      1.000000   \n",
       "75%        1.000000  21000.000000     60.000000     16.000000      2.000000   \n",
       "max        1.000000  40000.000000     60.000000     30.000000      6.000000   \n",
       "\n",
       "          sub_grade   installment    pymnt_plan    annual_inc    emp_length  \\\n",
       "count  56858.000000  56858.000000  56858.000000  5.685800e+04  56858.000000   \n",
       "mean       9.883112    459.807292      0.001126  8.172863e+04      5.673555   \n",
       "std        6.064186    289.315062      0.033532  8.077752e+04      3.823672   \n",
       "min        0.000000      6.000000      0.000000  2.500000e+01      0.000000   \n",
       "25%        5.000000    248.000000      0.000000  4.800000e+04      2.000000   \n",
       "50%        9.000000    381.000000      0.000000  6.800000e+04      5.000000   \n",
       "75%       14.000000    620.000000      0.000000  9.763750e+04     10.000000   \n",
       "max       34.000000   1714.000000      1.000000  7.845315e+06     10.000000   \n",
       "\n",
       "       ...  pub_rec_bankruptcies      revol_bal    revol_util     tax_liens  \\\n",
       "count  ...          56858.000000   56858.000000  56858.000000  56858.000000   \n",
       "mean   ...              0.131978   16157.137606     44.436983      0.041349   \n",
       "std    ...              0.344649   23235.287381     25.200620      0.342451   \n",
       "min    ...              0.000000       0.000000      0.000000      0.000000   \n",
       "25%    ...              0.000000    5241.000000     25.000000      0.000000   \n",
       "50%    ...              0.000000   10551.500000     43.000000      0.000000   \n",
       "75%    ...              0.000000   19318.750000     63.000000      0.000000   \n",
       "max    ...              4.000000  629372.000000    154.000000     22.000000   \n",
       "\n",
       "        tot_cur_bal  tot_hi_cred_lim     total_acc  total_bal_ex_mort  \\\n",
       "count  5.685800e+04     5.685800e+04  56858.000000       56858.000000   \n",
       "mean   1.465933e+05     1.871312e+05     22.773312       52951.649355   \n",
       "std    1.683264e+05     1.892716e+05     12.000394       52809.057967   \n",
       "min    0.000000e+00     2.000000e+02      2.000000           0.000000   \n",
       "25%    2.846925e+04     5.329250e+04     14.000000       20726.250000   \n",
       "50%    7.808500e+04     1.193000e+05     21.000000       38662.000000   \n",
       "75%    2.199355e+05     2.706010e+05     29.000000       67183.750000   \n",
       "max    3.250980e+06     3.817941e+06    151.000000      720502.000000   \n",
       "\n",
       "        total_bal_il  total_bc_limit  \n",
       "count   56858.000000    56858.000000  \n",
       "mean    36597.190439    26034.567044  \n",
       "std     45070.569049    25512.570272  \n",
       "min         0.000000      100.000000  \n",
       "25%      9149.250000     9500.000000  \n",
       "50%     23866.000000    18500.000000  \n",
       "75%     47537.250000    33800.000000  \n",
       "max    676089.000000   372000.000000  \n",
       "\n",
       "[8 rows x 47 columns]"
      ]
     },
     "execution_count": 31,
     "metadata": {},
     "output_type": "execute_result"
    }
   ],
   "source": [
    "# Data Preprocessing\n",
    "missing_values = ['Nan', 'n/a', '--']\n",
    "df = pd.read_csv('/Users/paskou/Documents/Imperial/Big Data I/Assignment_1/Loan_data_part_II.csv', na_values = missing_values)\n",
    "#df.isnull().values.any()\n",
    "df['loan_status'][df['loan_status'] == 'Fail'] = 0\n",
    "df['loan_status'][df['loan_status'] == 'Current'] = 1\n",
    "df = df.drop('id', axis = 1)\n",
    "df = df.astype('int')\n",
    "df.describe()"
   ]
  },
  {
   "cell_type": "code",
   "execution_count": 32,
   "metadata": {},
   "outputs": [],
   "source": [
    "# Splitting the dataset into\n",
    "X = df.drop('loan_status', axis = 1)\n",
    "y = df['loan_status']"
   ]
  },
  {
   "cell_type": "code",
   "execution_count": 33,
   "metadata": {},
   "outputs": [],
   "source": [
    "# Standardising the data\n",
    "sc_x_oos = StandardScaler()\n",
    "X = sc_x_oos.fit_transform(X)"
   ]
  },
  {
   "cell_type": "code",
   "execution_count": 34,
   "metadata": {},
   "outputs": [],
   "source": [
    "# Normalising the data (min max)\n",
    "#scaler_oos = MinMaxScaler()\n",
    "#scaler_oos.fit(X)\n",
    "#X = scaler.transform(X)"
   ]
  },
  {
   "cell_type": "markdown",
   "metadata": {},
   "source": [
    "## Random Forest Out of Sample"
   ]
  },
  {
   "cell_type": "code",
   "execution_count": 35,
   "metadata": {},
   "outputs": [
    {
     "name": "stdout",
     "output_type": "stream",
     "text": [
      "The roc auc in the test set is 0.713 and the accuracy is 0.72\n"
     ]
    }
   ],
   "source": [
    "RF_oos_fpr, RF_oos_tpr, _ = roc_curve(y, clf.predict_proba(X)[:,1])\n",
    "RF_oos_roc_auc = auc(RF_oos_fpr, RF_oos_tpr)\n",
    "accuracy = accuracy_score(y, clf.predict(X))\n",
    "print(\"The roc auc in the test set is %0.3f and the accuracy is %0.2f\"\n",
    "      %(RF_oos_roc_auc, accuracy))"
   ]
  },
  {
   "cell_type": "code",
   "execution_count": 36,
   "metadata": {},
   "outputs": [
    {
     "data": {
      "image/png": "[encoded data removed]",
      "text/plain": [
       "<Figure size 432x288 with 1 Axes>"
      ]
     },
     "metadata": {
      "needs_background": "light"
     },
     "output_type": "display_data"
    }
   ],
   "source": [
    "# Plotting the graph\n",
    "plt.plot(RF_oos_fpr, RF_oos_tpr, 'b', label = 'AUC = %0.3f' % RF_oos_roc_auc)\n",
    "plt.legend(loc = 'lower right')\n",
    "plt.plot([0, 1], [0, 1],'r--')\n",
    "plt.xlim([0, 1])\n",
    "plt.ylim([0, 1])\n",
    "plt.ylabel('True Positive Rate')\n",
    "plt.xlabel('False Positive Rate')\n",
    "plt.show()"
   ]
  },
  {
   "cell_type": "markdown",
   "metadata": {},
   "source": [
    "## Neural Network Out of Sample"
   ]
  },
  {
   "cell_type": "code",
   "execution_count": 37,
   "metadata": {},
   "outputs": [
    {
     "name": "stdout",
     "output_type": "stream",
     "text": [
      "The roc auc in the test set is 0.712 and the accuracy is 0.57\n"
     ]
    }
   ],
   "source": [
    "NN_oos_fpr, NN_oos_tpr, _ = roc_curve(y, classifier.predict_proba(X)[:,1])\n",
    "NN_oos_roc_auc = auc(NN_oos_fpr, NN_oos_tpr)\n",
    "accuracy = accuracy_score(y, classifier.predict(X))\n",
    "print(\"The roc auc in the test set is %0.3f and the accuracy is %0.2f\"\n",
    "      %(NN_oos_roc_auc, accuracy))"
   ]
  },
  {
   "cell_type": "code",
   "execution_count": 38,
   "metadata": {},
   "outputs": [
    {
     "data": {
      "image/png": "[encoded data removed]",
      "text/plain": [
       "<Figure size 432x288 with 1 Axes>"
      ]
     },
     "metadata": {
      "needs_background": "light"
     },
     "output_type": "display_data"
    }
   ],
   "source": [
    "# Plotting the graph\n",
    "plt.plot(NN_oos_fpr, NN_oos_tpr, 'b', label = 'AUC = %0.3f' % NN_oos_roc_auc)\n",
    "plt.legend(loc = 'lower right')\n",
    "plt.plot([0, 1], [0, 1],'r--')\n",
    "plt.xlim([0, 1])\n",
    "plt.ylim([0, 1])\n",
    "plt.ylabel('True Positive Rate')\n",
    "plt.xlabel('False Positive Rate')\n",
    "plt.show()"
   ]
  }
 ],
 "metadata": {
  "kernelspec": {
   "display_name": "Python 3",
   "language": "python",
   "name": "python3"
  },
  "language_info": {
   "codemirror_mode": {
    "name": "ipython",
    "version": 3
   },
   "file_extension": ".py",
   "mimetype": "text/x-python",
   "name": "python",
   "nbconvert_exporter": "python",
   "pygments_lexer": "ipython3",
   "version": "3.7.4"
  }
 },
 "nbformat": 4,
 "nbformat_minor": 2
}
